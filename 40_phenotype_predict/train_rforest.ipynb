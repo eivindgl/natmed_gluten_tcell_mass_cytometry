{
 "cells": [
  {
   "cell_type": "code",
   "execution_count": 104,
   "metadata": {},
   "outputs": [
    {
     "name": "stderr",
     "output_type": "stream",
     "text": [
      "Installing package into ‘/home/el/R/x86_64-pc-linux-gnu-library/3.4’\n",
      "(as ‘lib’ is unspecified)\n",
      "also installing the dependency ‘ROCR’\n",
      "\n",
      "\n",
      "MLmetrics installed\n"
     ]
    }
   ],
   "source": [
    "pacman::p_load(\n",
    "    tidyverse,\n",
    "    rhdf5,\n",
    "    caret,\n",
    "    doMC,\n",
    "    glue,\n",
    "    kknn,\n",
    "    MLmetrics\n",
    ")"
   ]
  },
  {
   "cell_type": "code",
   "execution_count": 11,
   "metadata": {},
   "outputs": [
    {
     "name": "stdout",
     "output_type": "stream",
     "text": [
      "setting working directory to /home/el/projects/2018_asbjorn_cd4/cytof\n"
     ]
    }
   ],
   "source": [
    "wdir <- getwd()\n",
    "if (basename(wdir) != 'cytof') {\n",
    "    if (basename(dirname(wdir)) == 'cytof') {\n",
    "        wdir <- dirname(wdir)\n",
    "    }\n",
    "}\n",
    "print(glue('setting working directory to {wdir}'))\n",
    "setwd(wdir)"
   ]
  },
  {
   "cell_type": "code",
   "execution_count": 20,
   "metadata": {},
   "outputs": [
    {
     "name": "stderr",
     "output_type": "stream",
     "text": [
      "Parsed with column specification:\n",
      "cols(\n",
      "  Antibody = col_character()\n",
      ")\n"
     ]
    }
   ],
   "source": [
    "predmarkers <- read_csv('input_data/common_markers_for_pred.csv') %>%\n",
    "    mutate(fcsmarker = str_replace_all(Antibody, '[ -]', '_'))"
   ]
  },
  {
   "cell_type": "code",
   "execution_count": 27,
   "metadata": {},
   "outputs": [],
   "source": [
    "read_dataset <- function(path, h5_path) {\n",
    "  M <- h5read(path, h5_path)\n",
    "  colnames(M) <- h5readAttributes(path, h5_path)$colnames\n",
    "  M\n",
    "}"
   ]
  },
  {
   "cell_type": "code",
   "execution_count": 12,
   "metadata": {},
   "outputs": [
    {
     "name": "stderr",
     "output_type": "stream",
     "text": [
      "Parsed with column specification:\n",
      "cols(\n",
      "  unique_name = col_character(),\n",
      "  sample_group = col_character(),\n",
      "  category = col_character(),\n",
      "  donor = col_character(),\n",
      "  biosource = col_character(),\n",
      "  disease = col_character(),\n",
      "  instrument = col_character(),\n",
      "  date = col_date(format = \"\"),\n",
      "  sample = col_character(),\n",
      "  disease_status = col_character(),\n",
      "  sample_category = col_character(),\n",
      "  note = col_character(),\n",
      "  path = col_character()\n",
      ")\n"
     ]
    }
   ],
   "source": [
    "all_samples  <- read_csv('input_data/renamed/sample_meta_full.csv')"
   ]
  },
  {
   "cell_type": "code",
   "execution_count": 46,
   "metadata": {},
   "outputs": [],
   "source": [
    "ced_tet_samples <- all_samples %>%\n",
    "    filter(biosource == 'PBMC' & disease == 'Ced' & disease_status != 'Challenge') %>%\n",
    "    filter(sample_category != 'full' & (is.na(note) | note != 'exclude_ac'))"
   ]
  },
  {
   "cell_type": "code",
   "execution_count": 47,
   "metadata": {},
   "outputs": [],
   "source": [
    "Ms <- ced_tet_samples %>%\n",
    "    mutate(h5path = glue('samples/{unique_name}')) %>%\n",
    "    .$h5path %>%\n",
    "    map(partial(read_dataset, 'out/cytof.h5')) %>%\n",
    "    map(~ .x[, predmarkers$fcsmarker])\n",
    "\n",
    "names(Ms) <- ced_tet_samples$unique_name"
   ]
  },
  {
   "cell_type": "code",
   "execution_count": 99,
   "metadata": {},
   "outputs": [],
   "source": [
    "num_rows <- Ms %>%\n",
    "    map_int(nrow)\n",
    "m <- with(ced_tet_samples, \n",
    "    tibble(sample = rep(unique_name, num_rows),\n",
    "             sample_category = rep(sample_category, num_rows))) %>%\n",
    "    mutate(sample_category = if_else(sample_category == 'tetramer+', 'tetramer_pos', 'tetramer_neg'))"
   ]
  },
  {
   "cell_type": "code",
   "execution_count": 100,
   "metadata": {},
   "outputs": [],
   "source": [
    "M <- do.call(rbind, Ms)\n",
    "M <- data.frame(M)\n",
    "M$tetramer <- fct_relevel(m$sample_category, 'tetramer_neg')"
   ]
  },
  {
   "cell_type": "code",
   "execution_count": 101,
   "metadata": {},
   "outputs": [],
   "source": [
    "set.seed(1234)\n",
    "trainingRows <- createDataPartition(m$sample_category, p = .8, list = FALSE)\n",
    "traindf <- M %>% slice(trainingRows)\n",
    "tesdft <- M %>% slice(-trainingRows)"
   ]
  },
  {
   "cell_type": "code",
   "execution_count": 102,
   "metadata": {},
   "outputs": [],
   "source": [
    "# can also include  summaryFunction = multiClassSummary \n",
    "# possible validation methods are method= \"cv\", \"boot632\", \"LGOCV\",\"LOOCV\",\"repeatedcv\", \"boot\" \n",
    "set.seed(12345)\n",
    "control <- trainControl(method=\"repeatedcv\", number=10, repeats=3, classProbs= TRUE, summaryFunction = multiClassSummary)\n",
    "\n",
    "# can be \"Accuracy\",   \"logLoss\", \"ROC\",   \"Kappa\"\n",
    "metric <- \"logLoss\""
   ]
  },
  {
   "cell_type": "markdown",
   "metadata": {},
   "source": [
    "Register 6 cores for caret computation"
   ]
  },
  {
   "cell_type": "code",
   "execution_count": 89,
   "metadata": {},
   "outputs": [],
   "source": [
    "registerDoMC(cores = 6)"
   ]
  },
  {
   "cell_type": "code",
   "execution_count": 108,
   "metadata": {},
   "outputs": [],
   "source": [
    "pacman::p_load(kernlab)\n",
    "SEED <- 1234"
   ]
  },
  {
   "cell_type": "code",
   "execution_count": 105,
   "metadata": {},
   "outputs": [
    {
     "name": "stdout",
     "output_type": "stream",
     "text": [
      "k-Nearest Neighbors \n",
      "\n",
      "28523 samples\n",
      "   21 predictor\n",
      "    2 classes: 'tetramer_neg', 'tetramer_pos' \n",
      "\n",
      "Pre-processing: centered (21), scaled (21) \n",
      "Resampling: Cross-Validated (10 fold, repeated 3 times) \n",
      "Summary of sample sizes: 25671, 25670, 25671, 25671, 25670, 25670, ... \n",
      "Resampling results across tuning parameters:\n",
      "\n",
      "  kmax  logLoss    AUC        prAUC      Accuracy   Kappa      F1       \n",
      "  5     0.2195783  0.9375985  0.1972959  0.9878811  0.8300007  0.9937075\n",
      "  7     0.2097369  0.9394230  0.2170298  0.9880096  0.8318535  0.9937742\n",
      "  9     0.1968051  0.9416457  0.2692257  0.9883952  0.8365946  0.9939754\n",
      "  Sensitivity  Specificity  Pos_Pred_Value  Neg_Pred_Value  Precision\n",
      "  0.9952596    0.8037559    0.9921618       0.8725901       0.9921618\n",
      "  0.9953204    0.8055769    0.9922342       0.8742635       0.9922342\n",
      "  0.9956851    0.8064887    0.9922730       0.8830515       0.9922730\n",
      "  Recall     Detection_Rate  Balanced_Accuracy\n",
      "  0.9952596  0.9569120       0.8995078        \n",
      "  0.9953204  0.9569704       0.9004486        \n",
      "  0.9956851  0.9573210       0.9010869        \n",
      "\n",
      "Tuning parameter 'distance' was held constant at a value of 2\n",
      "Tuning\n",
      " parameter 'kernel' was held constant at a value of optimal\n",
      "logLoss was used to select the optimal model using the smallest value.\n",
      "The final values used for the model were kmax = 9, distance = 2 and kernel\n",
      " = optimal.\n"
     ]
    }
   ],
   "source": [
    "SEED <- 1234\n",
    "m_kknn <- train(tetramer ~ ., data=traindf, method=\"kknn\", metric=metric, \n",
    "       trControl=control, preProcess = c(\"center\", \"scale\") )\n",
    "print(m_kknn)"
   ]
  },
  {
   "cell_type": "code",
   "execution_count": null,
   "metadata": {},
   "outputs": [],
   "source": [
    "SEED <- 1234\n",
    "m_rf <- train(tetramer ~ ., data=traindf, method=\"rf\", metric=metric, \n",
    "       trControl=control, preProcess = c(\"center\", \"scale\") )\n",
    "print(m_rf)"
   ]
  },
  {
   "cell_type": "code",
   "execution_count": null,
   "metadata": {},
   "outputs": [],
   "source": [
    "SEED <- 1234\n",
    "m_svmLin1 <- train(tetramer ~ ., data=traindf, method=\"svmLinear\", metric=metric, \n",
    "       trControl=control, preProcess = c(\"center\", \"scale\") )\n",
    "print(m_svmLin1)"
   ]
  },
  {
   "cell_type": "code",
   "execution_count": null,
   "metadata": {},
   "outputs": [],
   "source": [
    "SEED <- 1234\n",
    "m_svmLin2 <- train(tetramer ~ ., data=traindf, method=\"svmLinear2\", metric=metric, \n",
    "       trControl=control, preProcess = c(\"center\", \"scale\") )\n",
    "print(m_svmLin2)"
   ]
  },
  {
   "cell_type": "code",
   "execution_count": null,
   "metadata": {},
   "outputs": [],
   "source": [
    "SEED <- 1234\n",
    "m_svmRadial <- train(tetramer ~ ., data=traindf, method=\"svmRadial\", metric=metric, \n",
    "       trControl=control, preProcess = c(\"center\", \"scale\") )\n",
    "print(m_svmLin2)"
   ]
  },
  {
   "cell_type": "code",
   "execution_count": 106,
   "metadata": {},
   "outputs": [
    {
     "data": {
      "text/html": [
       "123"
      ],
      "text/latex": [
       "123"
      ],
      "text/markdown": [
       "123"
      ],
      "text/plain": [
       "[1] 123"
      ]
     },
     "metadata": {},
     "output_type": "display_data"
    }
   ],
   "source": [
    "123"
   ]
  }
 ],
 "metadata": {
  "kernelspec": {
   "display_name": "R",
   "language": "R",
   "name": "ir"
  },
  "language_info": {
   "codemirror_mode": "r",
   "file_extension": ".r",
   "mimetype": "text/x-r-source",
   "name": "R",
   "pygments_lexer": "r",
   "version": "3.4.4"
  }
 },
 "nbformat": 4,
 "nbformat_minor": 2
}
